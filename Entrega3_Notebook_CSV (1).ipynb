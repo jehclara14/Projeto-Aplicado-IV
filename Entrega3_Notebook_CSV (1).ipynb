{
 "cells": [
  {
   "cell_type": "markdown",
   "id": "32668bb2",
   "metadata": {},
   "source": [
    "# Implementação Parcial – Etapa 3\n",
    "## Previsão e Monitoramento da Epidemia de Dengue: Uma Abordagem por Séries Temporais\n",
    "**Jéssica Clara da Silva Santos**  \n",
    "Faculdade de Computação e Informática (FCI), Universidade Presbiteriana Mackenzie – São Paulo, SP – Brasil  \n",
    "10414974@mackenzista.com.br\n"
   ]
  },
  {
   "cell_type": "markdown",
   "id": "8519e688",
   "metadata": {},
   "source": [
    "## 1. Instalação de Dependências (Colab ou local)"
   ]
  },
  {
   "cell_type": "code",
   "execution_count": null,
   "id": "df05c3e0",
   "metadata": {},
   "outputs": [],
   "source": [
    "# Se estiver no Google Colab, execute para instalar pacotes\n",
    "# !pip install pandas numpy matplotlib statsmodels scikit-learn\n"
   ]
  },
  {
   "cell_type": "markdown",
   "id": "e555dfc1",
   "metadata": {},
   "source": [
    "## 2. Imports e Configurações Iniciais"
   ]
  },
  {
   "cell_type": "code",
   "execution_count": null,
   "id": "0ed023ca",
   "metadata": {},
   "outputs": [],
   "source": [
    "import pandas as pd\n",
    "import numpy as np\n",
    "import matplotlib.pyplot as plt\n",
    "import statsmodels.api as sm\n",
    "from sklearn.metrics import mean_absolute_error, mean_squared_error\n",
    "from sklearn.ensemble import RandomForestRegressor\n",
    "\n",
    "pd.set_option('display.max_rows', 10)\n",
    "plt.style.use('seaborn')\n"
   ]
  },
  {
   "cell_type": "markdown",
   "id": "d547fe54",
   "metadata": {},
   "source": [
    "## 3. Coleta de Dados via CSV\n",
    "Carregamento de dados históricos de dengue para o município de São Paulo.\n",
    "- **Local**: `dados/dengue_sp.csv` no repositório\n",
    "- **Raw GitHub**: forneça a URL crua do arquivo CSV"
   ]
  },
  {
   "cell_type": "code",
   "execution_count": null,
   "id": "2835b85d",
   "metadata": {},
   "outputs": [],
   "source": [
    "# Exemplo local\n",
    "# data = pd.read_csv('dados/dengue_sp.csv', parse_dates=['date'], index_col='date')\n",
    "\n",
    "# Exemplo via GitHub raw\n",
    "url_csv = 'https://raw.githubusercontent.com/jehclara14/Projeto-Aplicado-IV/main/dados/dengue_sp.csv'\n",
    "data = pd.read_csv(url_csv, parse_dates=['date'], index_col='date')\n",
    "\n",
    "print(f\"Período carregado: {data.index.min().date()} até {data.index.max().date()}\")\n",
    "print(f\"Total de observações: {len(data)}\")\n"
   ]
  },
  {
   "cell_type": "markdown",
   "id": "f70f9b2c",
   "metadata": {},
   "source": [
    "## 4. Pré‑processamento de Dados"
   ]
  },
  {
   "cell_type": "code",
   "execution_count": null,
   "id": "14268b14",
   "metadata": {},
   "outputs": [],
   "source": [
    "# Imputação de valores ausentes\n",
    "data['cases'] = data['cases'].interpolate(method='linear')\n",
    "\n",
    "# Remoção de outliers via IQR\n",
    "Q1 = data['cases'].quantile(0.25)\n",
    "Q3 = data['cases'].quantile(0.75)\n",
    "IQR = Q3 - Q1\n",
    "mask = (data['cases'] >= Q1 - 1.5 * IQR) & (data['cases'] <= Q3 + 1.5 * IQR)\n",
    "data = data.loc[mask]\n",
    "\n",
    "data.head()\n"
   ]
  },
  {
   "cell_type": "markdown",
   "id": "1c910b52",
   "metadata": {},
   "source": [
    "## 5. Visualização e Análise Exploratória"
   ]
  },
  {
   "cell_type": "code",
   "execution_count": null,
   "id": "b352c00b",
   "metadata": {},
   "outputs": [],
   "source": [
    "# Série temporal de casos\n",
    "plt.figure(figsize=(12, 4))\n",
    "plt.plot(data['cases'], label='Casos de dengue')\n",
    "plt.title('Casos Semanais de Dengue (SP)')\n",
    "plt.xlabel('Data')\n",
    "plt.ylabel('Casos')\n",
    "plt.legend()\n",
    "plt.show()\n",
    "\n",
    "from statsmodels.tsa.seasonal import seasonal_decompose\n",
    "decomp = seasonal_decompose(data['cases'], period=52, model='additive', extrapolate_trend='freq')\n",
    "fig = decomp.plot()\n",
    "fig.set_size_inches(12, 8)\n",
    "plt.show()\n"
   ]
  },
  {
   "cell_type": "markdown",
   "id": "6a474f60",
   "metadata": {},
   "source": [
    "## 6. Modelagem Estatística (SARIMA)"
   ]
  },
  {
   "cell_type": "code",
   "execution_count": null,
   "id": "a14917eb",
   "metadata": {},
   "outputs": [],
   "source": [
    "sarima_model = sm.tsa.statespace.SARIMAX(\n",
    "    data['cases'],\n",
    "    order=(1,1,1),\n",
    "    seasonal_order=(1,1,1,52),\n",
    "    enforce_stationarity=False,\n",
    "    enforce_invertibility=False\n",
    ")\n",
    "sarima_results = sarima_model.fit(disp=False)\n",
    "print(sarima_results.summary().tables[0])\n"
   ]
  },
  {
   "cell_type": "markdown",
   "id": "6e0522fb",
   "metadata": {},
   "source": [
    "## 7. Modelagem com Random Forest"
   ]
  },
  {
   "cell_type": "code",
   "execution_count": null,
   "id": "c3f7c3a8",
   "metadata": {},
   "outputs": [],
   "source": [
    "# Preparação de features com janela\n",
    "n_lags = 4  # 4 semanas de lag\n",
    "X, y = [], []\n",
    "values = data['cases'].values\n",
    "for i in range(n_lags, len(values)):\n",
    "    X.append(values[i-n_lags:i])\n",
    "    y.append(values[i])\n",
    "X, y = np.array(X), np.array(y)\n",
    "\n",
    "# Divisão treino/teste\n",
    "split = int(len(X) * 0.8)\n",
    "X_train, X_test = X[:split], X[split:]\n",
    "y_train, y_test = y[:split], y[split:]\n",
    "\n",
    "rf = RandomForestRegressor(n_estimators=100, random_state=42)\n",
    "rf.fit(X_train, y_train)\n",
    "rf_pred = rf.predict(X_test)\n"
   ]
  },
  {
   "cell_type": "markdown",
   "id": "a6a73892",
   "metadata": {},
   "source": [
    "## 8. Avaliação de Desempenho"
   ]
  },
  {
   "cell_type": "code",
   "execution_count": null,
   "id": "ff0ca847",
   "metadata": {},
   "outputs": [],
   "source": [
    "# SARIMA forecast\n",
    "sarima_pred = sarima_results.predict(start=0, end=len(data)-1)\n",
    "mae_sarima = mean_absolute_error(data['cases'], sarima_pred)\n",
    "rmse_sarima = np.sqrt(mean_squared_error(data['cases'], sarima_pred))\n",
    "\n",
    "# Random Forest forecast\n",
    "mae_rf = mean_absolute_error(y_test, rf_pred)\n",
    "rmse_rf = np.sqrt(mean_squared_error(y_test, rf_pred))\n",
    "\n",
    "print(f\"SARIMA MAE: {mae_sarima:.2f}, RMSE: {rmse_sarima:.2f}\")\n",
    "print(f\"RF     MAE: {mae_rf:.2f},   RMSE: {rmse_rf:.2f}\")\n"
   ]
  },
  {
   "cell_type": "markdown",
   "id": "7bad3d6e",
   "metadata": {},
   "source": [
    "## 9. Próximos Passos\n",
    "- Ajustar hiperparâmetros via grid search\n",
    "- Explorar modelos bayesianos\n",
    "- Desenvolver dashboards interativos\n"
   ]
  }
 ],
 "metadata": {},
 "nbformat": 4,
 "nbformat_minor": 5
}
